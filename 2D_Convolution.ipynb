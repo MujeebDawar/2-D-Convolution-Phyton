{
  "nbformat": 4,
  "nbformat_minor": 0,
  "metadata": {
    "colab": {
      "provenance": [],
      "authorship_tag": "ABX9TyMWeDXEgqsxcYAzhoUHApVs",
      "include_colab_link": true
    },
    "kernelspec": {
      "name": "python3",
      "display_name": "Python 3"
    },
    "language_info": {
      "name": "python"
    }
  },
  "cells": [
    {
      "cell_type": "markdown",
      "metadata": {
        "id": "view-in-github",
        "colab_type": "text"
      },
      "source": [
        "<a href=\"https://colab.research.google.com/github/MujeebDawar/2-D-Convolution-Phyton/blob/main/2D_Convolution.ipynb\" target=\"_parent\"><img src=\"https://colab.research.google.com/assets/colab-badge.svg\" alt=\"Open In Colab\"/></a>"
      ]
    },
    {
      "cell_type": "markdown",
      "source": [
        "**Implementing 2-D Convolution from Scratch**\n",
        "\n",
        "\n",
        "> By Mujeeb ur Rehman\n",
        "\n",
        "> Semester 1 (MS-CGD)\n",
        "\n",
        "\n",
        "**Technologies:** Python, NumPy\n",
        "\n",
        "This notebook presents an implementation of the 2-D convolution operation developed from scratch using NumPy.\n",
        "\n",
        " all variables are square matrices, and the size\n",
        " of the kernel matrix can also be an even number."
      ],
      "metadata": {
        "id": "xcZeBfrBQfuD"
      }
    },
    {
      "cell_type": "markdown",
      "source": [
        "# 1. Import Statements"
      ],
      "metadata": {
        "id": "U9fMn2p3SI-R"
      }
    },
    {
      "cell_type": "code",
      "source": [
        "import numpy as np"
      ],
      "metadata": {
        "id": "-KSs-zLUSIcL"
      },
      "execution_count": 1,
      "outputs": []
    },
    {
      "cell_type": "markdown",
      "source": [
        "# 2. 2-D Convolution Implementation"
      ],
      "metadata": {
        "id": "JHQc2Z_hSjUC"
      }
    },
    {
      "cell_type": "code",
      "source": [
        "#Perform the 2-D convolution operation.\n",
        "def conv2d(input_matrix, kernel_matrix):\n",
        "  #:input_matrix: the input matrix.\n",
        "  #:kernel_matrix: the kernel matrix used for convolution.\n",
        "\n",
        "  # Check none of the inputs are empty.\n",
        "  if input_matrix.size == 0 or kernel_matrix.size == 0:\n",
        "    raise Exception(\"Error! Empty matrices found.\")\n",
        "    return [[]] #return none\n",
        "\n",
        "    # Check the input is a square matrix.\n",
        "  if input_matrix.shape[0] != input_matrix.shape[1]:\n",
        "    raise Exception(\"Error! The input is not a square matrix.\")\n",
        "    return [[]]#return none\n",
        "\n",
        "    # Check also for the kernel is a square matrix.\n",
        "  if kernel_matrix.shape[0] != kernel_matrix.shape[1]:\n",
        "    raise Exception(\"Error! The kernel is not a square matrix.\")\n",
        "    return [[]]#return none\n",
        "\n",
        "# Get the size of the input Matrix and kernel Matrix.\n",
        "  input_size = input_matrix.shape[0]\n",
        "  kernel_size = kernel_matrix.shape[0]\n",
        "\n",
        "  # Check the kernel is not larger than the input matrix.\n",
        "  if input_size < kernel_size:\n",
        "    raise Exception(\"Error! The kernel is larger than the input.\")\n",
        "    return [[]]#return none\n",
        "\n",
        "    # Flip the kernel.\n",
        "  kernel_matrix = np.flip(kernel_matrix)\n",
        "\n",
        "   # Set up size of the output matrix.\n",
        "   #formula is M=n-k+1 where n is inputSize of Matrix and k is Input size of Kernal\n",
        "  output_size = (input_size - kernel_size) + 1\n",
        "\n",
        "  #setup outPut Matrix\n",
        "  #The numpy.zeros() function returns a new array of given shape and type, with zeros.\n",
        "  # Syntax:numpy.zeros(shape, dtype = None, order = 'C')\n",
        "   #shape : integer or sequence of integers\n",
        "   #order  : C_contiguous or F_contiguous\n",
        "        # C-contiguous order in memory(last index varies the fastest)\n",
        "        # C order means that operating row-rise on the array will be slightly quicker\n",
        "        # FORTRAN-contiguous order in memory (first index varies the fastest).\n",
        "        # F order means that column-wise operations will be faster.\n",
        "#dtype : [optional, float(byDeafult)] Data type of returned array.\n",
        "\n",
        "  output_mat = np.zeros(shape = (output_size, output_size), dtype=int)\n",
        "  row_offset = 0\n",
        "\n",
        "  for output_row in range(output_size):\n",
        "    col_offset = 0\n",
        "\n",
        "    for output_col in range(output_size):\n",
        "      kernel_row = 0\n",
        "\n",
        "      for row in range(row_offset, row_offset + kernel_size):\n",
        "        kernel_col = 0\n",
        "\n",
        "        for col in range(col_offset, col_offset + kernel_size):\n",
        "\n",
        "          # Perform the convolution computation.\n",
        "          output_mat[output_row, output_col] += (kernel_matrix[kernel_row, kernel_col] * input_matrix[row, col])\n",
        "          kernel_col += 1\n",
        "\n",
        "        kernel_row += 1\n",
        "\n",
        "      col_offset += 1\n",
        "\n",
        "    row_offset += 1\n",
        "\n",
        "  return output_mat"
      ],
      "metadata": {
        "id": "L4RtAberQeLj"
      },
      "execution_count": 35,
      "outputs": []
    },
    {
      "cell_type": "markdown",
      "source": [
        "# 3. Test Cases"
      ],
      "metadata": {
        "id": "CGUIeso8ZQFg"
      }
    },
    {
      "cell_type": "markdown",
      "source": [
        "3.1. Test Case #1\n",
        "\n",
        "**After defining the conv2d() function, it can now be tested with some given test cases.**"
      ],
      "metadata": {
        "id": "PTdEtdNHfEYg"
      }
    },
    {
      "cell_type": "code",
      "source": [
        "# Define the input matrix.\n",
        "input_matrix = np.array([[1, 2, 1, 2],\n",
        "                      [2, 1, 2, 1],\n",
        "                      [1, 2, 1, 2],\n",
        "                      [2, 1, 2, 1]])\n",
        "\n",
        "# Define the matrix kernel.\n",
        "kernel_matrix = np.array([[1, 0],\n",
        "                       [0, 1]])\n",
        "\n"
      ],
      "metadata": {
        "id": "2UEFgfhbZPCJ"
      },
      "execution_count": 38,
      "outputs": []
    },
    {
      "cell_type": "code",
      "source": [
        "output_mat = conv2d(input_matrix, kernel_matrix)\n",
        "print(output_mat)"
      ],
      "metadata": {
        "colab": {
          "base_uri": "https://localhost:8080/"
        },
        "id": "P4B9ywPtZedQ",
        "outputId": "ca41cda8-baba-48c9-da18-b0c671d2f2f3"
      },
      "execution_count": 39,
      "outputs": [
        {
          "output_type": "stream",
          "name": "stdout",
          "text": [
            "[[2 4 2]\n",
            " [4 2 4]\n",
            " [2 4 2]]\n"
          ]
        }
      ]
    },
    {
      "cell_type": "markdown",
      "source": [
        "**3.2. Test Case #2**"
      ],
      "metadata": {
        "id": "yd4--nkVfH3u"
      }
    },
    {
      "cell_type": "code",
      "source": [
        "# Define the input matrix.\n",
        "input_mat = np.array([[3, 0, 0, 0],\n",
        "                      [0, 3, 0, 0],\n",
        "                      [0, 0, 3, 0],\n",
        "                      [0, 0, 0, 3]])\n",
        "\n",
        "# Define the matrix kernel.\n",
        "kernel_mat = np.array([[1, 0],\n",
        "                       [0, 1]])\n",
        ""
      ],
      "metadata": {
        "id": "AUQ8mXybfJpv"
      },
      "execution_count": 42,
      "outputs": []
    },
    {
      "cell_type": "code",
      "source": [
        "output_mat = conv2d(input_mat, kernel_mat)\n",
        "print(output_mat)"
      ],
      "metadata": {
        "colab": {
          "base_uri": "https://localhost:8080/"
        },
        "id": "5NN9ge4dfO2_",
        "outputId": "750e52e3-4ef8-4380-f33f-22ed1b1e635d"
      },
      "execution_count": 43,
      "outputs": [
        {
          "output_type": "stream",
          "name": "stdout",
          "text": [
            "[[6 0 0]\n",
            " [0 6 0]\n",
            " [0 0 6]]\n"
          ]
        }
      ]
    },
    {
      "cell_type": "markdown",
      "source": [
        "**3.3. Test Case #3**\n",
        "\n",
        "\n",
        "Here, we can see that the function can work with negative numbers."
      ],
      "metadata": {
        "id": "VV2Oxq77fo3_"
      }
    },
    {
      "cell_type": "code",
      "source": [
        "# Define the input matrix.\n",
        "input_mat = np.array([[1, 0, 0, 0],\n",
        "                      [0, 1, 0, 0],\n",
        "                      [0, 0, 1, 0],\n",
        "                      [0, 0, 0, 1]])\n",
        "\n",
        "# Define the matrix kernel.\n",
        "kernel_mat = np.array([[1, -1],\n",
        "                       [-1, 0]])"
      ],
      "metadata": {
        "id": "0eYZy_LLf_Qe"
      },
      "execution_count": 44,
      "outputs": []
    },
    {
      "cell_type": "code",
      "source": [
        "output_mat = conv2d(input_mat, kernel_mat)\n",
        "print(output_mat)"
      ],
      "metadata": {
        "colab": {
          "base_uri": "https://localhost:8080/"
        },
        "id": "UnTNhGPVgASW",
        "outputId": "e747745d-d447-412b-fc94-f49784c4490c"
      },
      "execution_count": 45,
      "outputs": [
        {
          "output_type": "stream",
          "name": "stdout",
          "text": [
            "[[ 1 -1  0]\n",
            " [-1  1 -1]\n",
            " [ 0 -1  1]]\n"
          ]
        }
      ]
    },
    {
      "cell_type": "markdown",
      "source": [
        "**3.4. Test Case #4**\n",
        "\n",
        "Here, it is ensured that the function works if the input and the kernel matrices are the same."
      ],
      "metadata": {
        "id": "XIbeI4dcgfHv"
      }
    },
    {
      "cell_type": "code",
      "source": [
        "# Define the input matrix.\n",
        "input_mat = np.array([[1, 0, 0, 0],\n",
        "                      [0, 1, 0, 0],\n",
        "                      [0, 0, 1, 0],\n",
        "                      [0, 0, 0, 1]])\n",
        "\n",
        "# Define the matrix kernel.\n",
        "kernel_mat = np.array([[1, 0, 0, 0],\n",
        "                       [0, 1, 0, 0],\n",
        "                       [0, 0, 1, 0],\n",
        "                       [0, 0, 0, 1]])"
      ],
      "metadata": {
        "id": "Y2uaQSwjg34H"
      },
      "execution_count": 46,
      "outputs": []
    },
    {
      "cell_type": "code",
      "source": [
        "output_mat = conv2d(input_mat, kernel_mat)\n",
        "print(output_mat)"
      ],
      "metadata": {
        "colab": {
          "base_uri": "https://localhost:8080/"
        },
        "id": "Wd56omydg7uG",
        "outputId": "edb98c95-245a-46c7-9bb0-f8020a7dbe7e"
      },
      "execution_count": 47,
      "outputs": [
        {
          "output_type": "stream",
          "name": "stdout",
          "text": [
            "[[4]]\n"
          ]
        }
      ]
    },
    {
      "cell_type": "markdown",
      "source": [
        "**3.5. Test Case #5**\n",
        "\n",
        "This test case presents the case where the kernel is larger than the input matrix. In this case, the functions prints an error."
      ],
      "metadata": {
        "id": "wPTdLAM_hBvW"
      }
    },
    {
      "cell_type": "code",
      "source": [
        "# Define the input matrix.\n",
        "input_mat = np.array([[1, -1],\n",
        "                      [-1, 0]])\n",
        "\n",
        "# Define the matrix kernel.\n",
        "kernel_mat = np.array([[1, 0, 0, 0],\n",
        "                       [0, 1, 0, 0],\n",
        "                       [0, 0, 1, 0],\n",
        "                       [0, 0, 0, 1]])\n",
        ""
      ],
      "metadata": {
        "id": "Y8Zeha2bhBZu"
      },
      "execution_count": 48,
      "outputs": []
    },
    {
      "cell_type": "code",
      "source": [
        "output_mat = conv2d(input_mat, kernel_mat)\n",
        "print(output_mat)\n",
        ""
      ],
      "metadata": {
        "colab": {
          "base_uri": "https://localhost:8080/",
          "height": 309
        },
        "id": "bckQmTQ-hPAV",
        "outputId": "962282bf-4282-42a8-d887-545f4842d670"
      },
      "execution_count": 49,
      "outputs": [
        {
          "output_type": "error",
          "ename": "Exception",
          "evalue": "Error! The kernel is larger than the input.",
          "traceback": [
            "\u001b[0;31m---------------------------------------------------------------------------\u001b[0m",
            "\u001b[0;31mException\u001b[0m                                 Traceback (most recent call last)",
            "\u001b[0;32m<ipython-input-49-1ae2aad4107c>\u001b[0m in \u001b[0;36m<cell line: 1>\u001b[0;34m()\u001b[0m\n\u001b[0;32m----> 1\u001b[0;31m \u001b[0moutput_mat\u001b[0m \u001b[0;34m=\u001b[0m \u001b[0mconv2d\u001b[0m\u001b[0;34m(\u001b[0m\u001b[0minput_mat\u001b[0m\u001b[0;34m,\u001b[0m \u001b[0mkernel_mat\u001b[0m\u001b[0;34m)\u001b[0m\u001b[0;34m\u001b[0m\u001b[0;34m\u001b[0m\u001b[0m\n\u001b[0m\u001b[1;32m      2\u001b[0m \u001b[0mprint\u001b[0m\u001b[0;34m(\u001b[0m\u001b[0moutput_mat\u001b[0m\u001b[0;34m)\u001b[0m\u001b[0;34m\u001b[0m\u001b[0;34m\u001b[0m\u001b[0m\n\u001b[1;32m      3\u001b[0m \u001b[0;34m\u001b[0m\u001b[0m\n",
            "\u001b[0;32m<ipython-input-35-2268a749fab8>\u001b[0m in \u001b[0;36mconv2d\u001b[0;34m(input_matrix, kernel_matrix)\u001b[0m\n\u001b[1;32m     25\u001b[0m   \u001b[0;31m# Check the kernel is not larger than the input matrix.\u001b[0m\u001b[0;34m\u001b[0m\u001b[0;34m\u001b[0m\u001b[0m\n\u001b[1;32m     26\u001b[0m   \u001b[0;32mif\u001b[0m \u001b[0minput_size\u001b[0m \u001b[0;34m<\u001b[0m \u001b[0mkernel_size\u001b[0m\u001b[0;34m:\u001b[0m\u001b[0;34m\u001b[0m\u001b[0;34m\u001b[0m\u001b[0m\n\u001b[0;32m---> 27\u001b[0;31m     \u001b[0;32mraise\u001b[0m \u001b[0mException\u001b[0m\u001b[0;34m(\u001b[0m\u001b[0;34m\"Error! The kernel is larger than the input.\"\u001b[0m\u001b[0;34m)\u001b[0m\u001b[0;34m\u001b[0m\u001b[0;34m\u001b[0m\u001b[0m\n\u001b[0m\u001b[1;32m     28\u001b[0m     \u001b[0;32mreturn\u001b[0m \u001b[0;34m[\u001b[0m\u001b[0;34m[\u001b[0m\u001b[0;34m]\u001b[0m\u001b[0;34m]\u001b[0m\u001b[0;31m#return none\u001b[0m\u001b[0;34m\u001b[0m\u001b[0;34m\u001b[0m\u001b[0m\n\u001b[1;32m     29\u001b[0m \u001b[0;34m\u001b[0m\u001b[0m\n",
            "\u001b[0;31mException\u001b[0m: Error! The kernel is larger than the input."
          ]
        }
      ]
    }
  ]
}